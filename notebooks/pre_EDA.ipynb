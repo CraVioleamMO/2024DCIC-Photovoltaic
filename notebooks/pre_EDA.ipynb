{
 "cells": [
  {
   "cell_type": "code",
   "execution_count": 2,
   "metadata": {
    "collapsed": true,
    "ExecuteTime": {
     "start_time": "2024-03-22T16:31:59.315163Z",
     "end_time": "2024-03-22T16:31:59.326161Z"
    }
   },
   "outputs": [],
   "source": [
    "import pandas as pd\n",
    "import numpy as np\n",
    "from datetime import date,timedelta\n",
    "import os\n",
    "import matplotlib.pyplot as plt\n",
    "plt.rcParams['font.sans-serif']=['SimHei'] #用来正常显示中文标签\n",
    "plt.rcParams['axes.unicode_minus']=False #用来正常显示负号\n",
    "import seaborn as sns\n",
    "%matplotlib inline"
   ]
  },
  {
   "cell_type": "markdown",
   "source": [
    "# Read Data"
   ],
   "metadata": {
    "collapsed": false
   }
  },
  {
   "cell_type": "code",
   "execution_count": 6,
   "outputs": [],
   "source": [
    "path = '../input/train'\n",
    "\n",
    "train_basic = pd.read_csv(os.path.join(path,'basic_information.csv'),encoding='ANSI')\n",
    "train_weather = pd.read_csv(os.path.join(path,'weather.csv'),encoding='ANSI')\n",
    "train_power = pd.read_csv(os.path.join(path,'power.csv'),encoding='ANSI')\n",
    "\n",
    "path = '../input/test'\n",
    "\n",
    "test_basic = pd.read_csv(os.path.join(path,'basic_information.csv'),encoding='ANSI')\n",
    "test_weather = pd.read_csv(os.path.join(path,'weather.csv'),encoding='ANSI')\n",
    "test_power = pd.read_csv(os.path.join(path,'power.csv'),encoding='ANSI')"
   ],
   "metadata": {
    "collapsed": false,
    "ExecuteTime": {
     "start_time": "2024-03-22T16:43:29.074106Z",
     "end_time": "2024-03-22T16:43:29.663612Z"
    }
   }
  },
  {
   "cell_type": "markdown",
   "source": [
    "## Training set\n",
    "### basic information"
   ],
   "metadata": {
    "collapsed": false
   }
  },
  {
   "cell_type": "code",
   "execution_count": 7,
   "outputs": [
    {
     "data": {
      "text/plain": "     光伏用户名称 光伏用户编号  装机容量(kW)          经度         纬度\n0  f1光伏发电用户     f1   239.220  119.218560  26.042931\n1  f2光伏发电用户     f2   396.000  118.124457  24.695315\n2  f3光伏发电用户     f3   397.870  117.002056  25.112496\n3  f4光伏发电用户     f4   332.395  117.854904  26.744673\n4  f5光伏发电用户     f5   201.140  120.022313  26.872516",
      "text/html": "<div>\n<style scoped>\n    .dataframe tbody tr th:only-of-type {\n        vertical-align: middle;\n    }\n\n    .dataframe tbody tr th {\n        vertical-align: top;\n    }\n\n    .dataframe thead th {\n        text-align: right;\n    }\n</style>\n<table border=\"1\" class=\"dataframe\">\n  <thead>\n    <tr style=\"text-align: right;\">\n      <th></th>\n      <th>光伏用户名称</th>\n      <th>光伏用户编号</th>\n      <th>装机容量(kW)</th>\n      <th>经度</th>\n      <th>纬度</th>\n    </tr>\n  </thead>\n  <tbody>\n    <tr>\n      <th>0</th>\n      <td>f1光伏发电用户</td>\n      <td>f1</td>\n      <td>239.220</td>\n      <td>119.218560</td>\n      <td>26.042931</td>\n    </tr>\n    <tr>\n      <th>1</th>\n      <td>f2光伏发电用户</td>\n      <td>f2</td>\n      <td>396.000</td>\n      <td>118.124457</td>\n      <td>24.695315</td>\n    </tr>\n    <tr>\n      <th>2</th>\n      <td>f3光伏发电用户</td>\n      <td>f3</td>\n      <td>397.870</td>\n      <td>117.002056</td>\n      <td>25.112496</td>\n    </tr>\n    <tr>\n      <th>3</th>\n      <td>f4光伏发电用户</td>\n      <td>f4</td>\n      <td>332.395</td>\n      <td>117.854904</td>\n      <td>26.744673</td>\n    </tr>\n    <tr>\n      <th>4</th>\n      <td>f5光伏发电用户</td>\n      <td>f5</td>\n      <td>201.140</td>\n      <td>120.022313</td>\n      <td>26.872516</td>\n    </tr>\n  </tbody>\n</table>\n</div>"
     },
     "execution_count": 7,
     "metadata": {},
     "output_type": "execute_result"
    }
   ],
   "source": [
    "train_basic.head()"
   ],
   "metadata": {
    "collapsed": false,
    "ExecuteTime": {
     "start_time": "2024-03-22T16:43:33.120925Z",
     "end_time": "2024-03-22T16:43:33.147924Z"
    }
   }
  },
  {
   "cell_type": "markdown",
   "source": [
    "<font size=5 face='雅黑'>the train_basic dataframe has columns:光伏用户名称', '光伏用户编号', '装机容量(kW)', '经度', '纬度'"
   ],
   "metadata": {
    "collapsed": false
   }
  },
  {
   "cell_type": "code",
   "execution_count": 9,
   "outputs": [
    {
     "name": "stdout",
     "output_type": "stream",
     "text": [
      "<class 'pandas.core.frame.DataFrame'>\n",
      "RangeIndex: 9 entries, 0 to 8\n",
      "Data columns (total 5 columns):\n",
      " #   Column    Non-Null Count  Dtype  \n",
      "---  ------    --------------  -----  \n",
      " 0   光伏用户名称    9 non-null      object \n",
      " 1   光伏用户编号    9 non-null      object \n",
      " 2   装机容量(kW)  9 non-null      float64\n",
      " 3   经度        9 non-null      float64\n",
      " 4   纬度        9 non-null      float64\n",
      "dtypes: float64(3), object(2)\n",
      "memory usage: 488.0+ bytes\n"
     ]
    }
   ],
   "source": [
    "train_basic.info()"
   ],
   "metadata": {
    "collapsed": false,
    "ExecuteTime": {
     "start_time": "2024-03-22T16:50:04.407770Z",
     "end_time": "2024-03-22T16:50:04.423778Z"
    }
   }
  },
  {
   "cell_type": "code",
   "execution_count": 10,
   "outputs": [
    {
     "data": {
      "text/plain": "          装机容量(kW)          经度         纬度\ncount     9.000000    9.000000   9.000000\nmean   1535.180556  118.395248  25.600724\nstd    2050.145496    0.969891   0.949041\nmin     201.140000  117.002056  24.077638\n25%     332.395000  117.740547  25.112496\n50%     397.870000  118.124457  25.449233\n75%    2000.000000  119.156033  26.280676\nmax    6000.000000  120.022313  26.872516",
      "text/html": "<div>\n<style scoped>\n    .dataframe tbody tr th:only-of-type {\n        vertical-align: middle;\n    }\n\n    .dataframe tbody tr th {\n        vertical-align: top;\n    }\n\n    .dataframe thead th {\n        text-align: right;\n    }\n</style>\n<table border=\"1\" class=\"dataframe\">\n  <thead>\n    <tr style=\"text-align: right;\">\n      <th></th>\n      <th>装机容量(kW)</th>\n      <th>经度</th>\n      <th>纬度</th>\n    </tr>\n  </thead>\n  <tbody>\n    <tr>\n      <th>count</th>\n      <td>9.000000</td>\n      <td>9.000000</td>\n      <td>9.000000</td>\n    </tr>\n    <tr>\n      <th>mean</th>\n      <td>1535.180556</td>\n      <td>118.395248</td>\n      <td>25.600724</td>\n    </tr>\n    <tr>\n      <th>std</th>\n      <td>2050.145496</td>\n      <td>0.969891</td>\n      <td>0.949041</td>\n    </tr>\n    <tr>\n      <th>min</th>\n      <td>201.140000</td>\n      <td>117.002056</td>\n      <td>24.077638</td>\n    </tr>\n    <tr>\n      <th>25%</th>\n      <td>332.395000</td>\n      <td>117.740547</td>\n      <td>25.112496</td>\n    </tr>\n    <tr>\n      <th>50%</th>\n      <td>397.870000</td>\n      <td>118.124457</td>\n      <td>25.449233</td>\n    </tr>\n    <tr>\n      <th>75%</th>\n      <td>2000.000000</td>\n      <td>119.156033</td>\n      <td>26.280676</td>\n    </tr>\n    <tr>\n      <th>max</th>\n      <td>6000.000000</td>\n      <td>120.022313</td>\n      <td>26.872516</td>\n    </tr>\n  </tbody>\n</table>\n</div>"
     },
     "execution_count": 10,
     "metadata": {},
     "output_type": "execute_result"
    }
   ],
   "source": [
    "train_basic.describe()"
   ],
   "metadata": {
    "collapsed": false,
    "ExecuteTime": {
     "start_time": "2024-03-22T16:50:33.793443Z",
     "end_time": "2024-03-22T16:50:33.821473Z"
    }
   }
  },
  {
   "cell_type": "markdown",
   "source": [
    "### weather"
   ],
   "metadata": {
    "collapsed": false
   }
  },
  {
   "cell_type": "code",
   "execution_count": 12,
   "outputs": [
    {
     "data": {
      "text/plain": "  光伏用户编号             时间       气压(Pa）  相对湿度（%）        云量  10米风速（10m/s）  \\\n0     f1  2022-1-3 0:00  100361.6094  79.3513  0.007812        1.1695   \n1     f1  2022-1-3 0:15  100351.1476  76.8741  0.007005        1.1490   \n2     f1  2022-1-3 0:30  100341.8609  74.9771  0.006890        1.1556   \n3     f1  2022-1-3 0:45  100333.2668  73.6136  0.007236        1.1807   \n4     f1  2022-1-3 1:00  100324.8828  72.7366  0.007812        1.2157   \n\n   10米风向（°)     温度（K）  辐照强度（J/m2）     降水（m）  100m风速（100m/s）  100m风向（°)  \n0     270.0  280.6320         0.0  0.000229             0.0      270.0  \n1     270.0  280.6308         0.0  0.000229             0.0      270.0  \n2     270.0  280.5719         0.0  0.000229             0.0      270.0  \n3     270.0  280.4776         0.0  0.000229             0.0      270.0  \n4     270.0  280.3705         0.0  0.000229             0.0      270.0  ",
      "text/html": "<div>\n<style scoped>\n    .dataframe tbody tr th:only-of-type {\n        vertical-align: middle;\n    }\n\n    .dataframe tbody tr th {\n        vertical-align: top;\n    }\n\n    .dataframe thead th {\n        text-align: right;\n    }\n</style>\n<table border=\"1\" class=\"dataframe\">\n  <thead>\n    <tr style=\"text-align: right;\">\n      <th></th>\n      <th>光伏用户编号</th>\n      <th>时间</th>\n      <th>气压(Pa）</th>\n      <th>相对湿度（%）</th>\n      <th>云量</th>\n      <th>10米风速（10m/s）</th>\n      <th>10米风向（°)</th>\n      <th>温度（K）</th>\n      <th>辐照强度（J/m2）</th>\n      <th>降水（m）</th>\n      <th>100m风速（100m/s）</th>\n      <th>100m风向（°)</th>\n    </tr>\n  </thead>\n  <tbody>\n    <tr>\n      <th>0</th>\n      <td>f1</td>\n      <td>2022-1-3 0:00</td>\n      <td>100361.6094</td>\n      <td>79.3513</td>\n      <td>0.007812</td>\n      <td>1.1695</td>\n      <td>270.0</td>\n      <td>280.6320</td>\n      <td>0.0</td>\n      <td>0.000229</td>\n      <td>0.0</td>\n      <td>270.0</td>\n    </tr>\n    <tr>\n      <th>1</th>\n      <td>f1</td>\n      <td>2022-1-3 0:15</td>\n      <td>100351.1476</td>\n      <td>76.8741</td>\n      <td>0.007005</td>\n      <td>1.1490</td>\n      <td>270.0</td>\n      <td>280.6308</td>\n      <td>0.0</td>\n      <td>0.000229</td>\n      <td>0.0</td>\n      <td>270.0</td>\n    </tr>\n    <tr>\n      <th>2</th>\n      <td>f1</td>\n      <td>2022-1-3 0:30</td>\n      <td>100341.8609</td>\n      <td>74.9771</td>\n      <td>0.006890</td>\n      <td>1.1556</td>\n      <td>270.0</td>\n      <td>280.5719</td>\n      <td>0.0</td>\n      <td>0.000229</td>\n      <td>0.0</td>\n      <td>270.0</td>\n    </tr>\n    <tr>\n      <th>3</th>\n      <td>f1</td>\n      <td>2022-1-3 0:45</td>\n      <td>100333.2668</td>\n      <td>73.6136</td>\n      <td>0.007236</td>\n      <td>1.1807</td>\n      <td>270.0</td>\n      <td>280.4776</td>\n      <td>0.0</td>\n      <td>0.000229</td>\n      <td>0.0</td>\n      <td>270.0</td>\n    </tr>\n    <tr>\n      <th>4</th>\n      <td>f1</td>\n      <td>2022-1-3 1:00</td>\n      <td>100324.8828</td>\n      <td>72.7366</td>\n      <td>0.007812</td>\n      <td>1.2157</td>\n      <td>270.0</td>\n      <td>280.3705</td>\n      <td>0.0</td>\n      <td>0.000229</td>\n      <td>0.0</td>\n      <td>270.0</td>\n    </tr>\n  </tbody>\n</table>\n</div>"
     },
     "execution_count": 12,
     "metadata": {},
     "output_type": "execute_result"
    }
   ],
   "source": [
    "train_weather.head()"
   ],
   "metadata": {
    "collapsed": false,
    "ExecuteTime": {
     "start_time": "2024-03-22T16:52:04.105562Z",
     "end_time": "2024-03-22T16:52:04.131299Z"
    }
   }
  },
  {
   "cell_type": "markdown",
   "source": [
    "<font size=5 face='雅黑'>the train_weather dataframe has columns: '光伏用户编号', '时间', '气压(Pa）', '相对湿度（%）', '云量', '10米风速（10m/s）', '10米风向（°)',\n",
    "       '温度（K）', '辐照强度（J/m2）', '降水（m）', '100m风速（100m/s）', '100m风向（°)'"
   ],
   "metadata": {
    "collapsed": false
   }
  },
  {
   "cell_type": "code",
   "execution_count": 13,
   "outputs": [
    {
     "name": "stdout",
     "output_type": "stream",
     "text": [
      "<class 'pandas.core.frame.DataFrame'>\n",
      "RangeIndex: 417312 entries, 0 to 417311\n",
      "Data columns (total 12 columns):\n",
      " #   Column          Non-Null Count   Dtype  \n",
      "---  ------          --------------   -----  \n",
      " 0   光伏用户编号          417312 non-null  object \n",
      " 1   时间              417312 non-null  object \n",
      " 2   气压(Pa）          417312 non-null  float64\n",
      " 3   相对湿度（%）         417312 non-null  float64\n",
      " 4   云量              417312 non-null  float64\n",
      " 5   10米风速（10m/s）    417312 non-null  float64\n",
      " 6   10米风向（°)        417312 non-null  float64\n",
      " 7   温度（K）           417312 non-null  float64\n",
      " 8   辐照强度（J/m2）      417312 non-null  float64\n",
      " 9   降水（m）           417312 non-null  float64\n",
      " 10  100m风速（100m/s）  417312 non-null  float64\n",
      " 11  100m风向（°)       417312 non-null  float64\n",
      "dtypes: float64(10), object(2)\n",
      "memory usage: 38.2+ MB\n"
     ]
    }
   ],
   "source": [
    "train_weather.info()"
   ],
   "metadata": {
    "collapsed": false,
    "ExecuteTime": {
     "start_time": "2024-03-22T16:52:14.740212Z",
     "end_time": "2024-03-22T16:52:14.782713Z"
    }
   }
  },
  {
   "cell_type": "code",
   "execution_count": 14,
   "outputs": [
    {
     "data": {
      "text/plain": "              气压(Pa）        相对湿度（%）             云量   10米风速（10m/s）  \\\ncount  417312.000000  417312.000000  417312.000000  417312.000000   \nmean    99069.642903      69.827813       0.644066       0.685355   \nstd      2383.325663      25.765804       0.408450       1.187554   \nmin     93293.210900       0.000000       0.000000       0.000000   \n25%     97186.486200      57.630650       0.186160       0.000000   \n50%     99784.652500      76.515200       0.906250       0.000000   \n75%    100994.211175      89.559225       1.000000       0.926490   \nmax    103374.528500     105.853600       1.000000      10.006000   \n\n            10米风向（°)          温度（K）     辐照强度（J/m2）          降水（m）  \\\ncount  417312.000000  417312.000000  417312.000000  417312.000000   \nmean      246.380848     291.860249     174.914878       0.006974   \nstd        36.205261       7.344224     257.852394       0.014190   \nmin       180.000000     268.538300       0.000000       0.000000   \n25%       215.892050     286.242175       0.000000       0.000008   \n50%       270.000000     291.903500       0.000000       0.000888   \n75%       270.000000     297.530150     296.787175       0.007496   \nmax       270.000000     314.426600    1010.516900       0.242010   \n\n       100m风速（100m/s）      100m风向（°)  \ncount   417312.000000  417312.000000  \nmean         1.065983     246.257137  \nstd          1.838762      35.861626  \nmin          0.000000     180.000000  \n25%          0.000000     216.613825  \n50%          0.000000     270.000000  \n75%          1.506400     270.000000  \nmax         13.959800     270.000000  ",
      "text/html": "<div>\n<style scoped>\n    .dataframe tbody tr th:only-of-type {\n        vertical-align: middle;\n    }\n\n    .dataframe tbody tr th {\n        vertical-align: top;\n    }\n\n    .dataframe thead th {\n        text-align: right;\n    }\n</style>\n<table border=\"1\" class=\"dataframe\">\n  <thead>\n    <tr style=\"text-align: right;\">\n      <th></th>\n      <th>气压(Pa）</th>\n      <th>相对湿度（%）</th>\n      <th>云量</th>\n      <th>10米风速（10m/s）</th>\n      <th>10米风向（°)</th>\n      <th>温度（K）</th>\n      <th>辐照强度（J/m2）</th>\n      <th>降水（m）</th>\n      <th>100m风速（100m/s）</th>\n      <th>100m风向（°)</th>\n    </tr>\n  </thead>\n  <tbody>\n    <tr>\n      <th>count</th>\n      <td>417312.000000</td>\n      <td>417312.000000</td>\n      <td>417312.000000</td>\n      <td>417312.000000</td>\n      <td>417312.000000</td>\n      <td>417312.000000</td>\n      <td>417312.000000</td>\n      <td>417312.000000</td>\n      <td>417312.000000</td>\n      <td>417312.000000</td>\n    </tr>\n    <tr>\n      <th>mean</th>\n      <td>99069.642903</td>\n      <td>69.827813</td>\n      <td>0.644066</td>\n      <td>0.685355</td>\n      <td>246.380848</td>\n      <td>291.860249</td>\n      <td>174.914878</td>\n      <td>0.006974</td>\n      <td>1.065983</td>\n      <td>246.257137</td>\n    </tr>\n    <tr>\n      <th>std</th>\n      <td>2383.325663</td>\n      <td>25.765804</td>\n      <td>0.408450</td>\n      <td>1.187554</td>\n      <td>36.205261</td>\n      <td>7.344224</td>\n      <td>257.852394</td>\n      <td>0.014190</td>\n      <td>1.838762</td>\n      <td>35.861626</td>\n    </tr>\n    <tr>\n      <th>min</th>\n      <td>93293.210900</td>\n      <td>0.000000</td>\n      <td>0.000000</td>\n      <td>0.000000</td>\n      <td>180.000000</td>\n      <td>268.538300</td>\n      <td>0.000000</td>\n      <td>0.000000</td>\n      <td>0.000000</td>\n      <td>180.000000</td>\n    </tr>\n    <tr>\n      <th>25%</th>\n      <td>97186.486200</td>\n      <td>57.630650</td>\n      <td>0.186160</td>\n      <td>0.000000</td>\n      <td>215.892050</td>\n      <td>286.242175</td>\n      <td>0.000000</td>\n      <td>0.000008</td>\n      <td>0.000000</td>\n      <td>216.613825</td>\n    </tr>\n    <tr>\n      <th>50%</th>\n      <td>99784.652500</td>\n      <td>76.515200</td>\n      <td>0.906250</td>\n      <td>0.000000</td>\n      <td>270.000000</td>\n      <td>291.903500</td>\n      <td>0.000000</td>\n      <td>0.000888</td>\n      <td>0.000000</td>\n      <td>270.000000</td>\n    </tr>\n    <tr>\n      <th>75%</th>\n      <td>100994.211175</td>\n      <td>89.559225</td>\n      <td>1.000000</td>\n      <td>0.926490</td>\n      <td>270.000000</td>\n      <td>297.530150</td>\n      <td>296.787175</td>\n      <td>0.007496</td>\n      <td>1.506400</td>\n      <td>270.000000</td>\n    </tr>\n    <tr>\n      <th>max</th>\n      <td>103374.528500</td>\n      <td>105.853600</td>\n      <td>1.000000</td>\n      <td>10.006000</td>\n      <td>270.000000</td>\n      <td>314.426600</td>\n      <td>1010.516900</td>\n      <td>0.242010</td>\n      <td>13.959800</td>\n      <td>270.000000</td>\n    </tr>\n  </tbody>\n</table>\n</div>"
     },
     "execution_count": 14,
     "metadata": {},
     "output_type": "execute_result"
    }
   ],
   "source": [
    "train_weather.describe()"
   ],
   "metadata": {
    "collapsed": false,
    "ExecuteTime": {
     "start_time": "2024-03-22T16:52:20.632833Z",
     "end_time": "2024-03-22T16:52:20.770324Z"
    }
   }
  },
  {
   "cell_type": "markdown",
   "source": [
    "### power"
   ],
   "metadata": {
    "collapsed": false
   }
  },
  {
   "cell_type": "code",
   "execution_count": 16,
   "outputs": [
    {
     "data": {
      "text/plain": "  光伏用户编号  综合倍率             时间      p1      p2      p3      p4   p5      p6  \\\n0     f1    80  2022-1-3 0:00  0.0000  0.0000  0.0000  0.0000  0.0  0.0000   \n1     f1    80  2022-1-4 0:00 -0.0001  0.0000 -0.0001  0.0000  0.0 -0.0001   \n2     f1    80  2022-1-5 0:00 -0.0003 -0.0001  0.0000  0.0000  0.0 -0.0001   \n3     f1    80  2022-1-6 0:00 -0.0003  0.0000 -0.0003 -0.0001  0.0  0.0000   \n4     f1    80  2022-1-7 0:00  0.0000 -0.0001 -0.0001  0.0000  0.0 -0.0001   \n\n       p7  ...     p87     p88     p89     p90     p91     p92     p93  \\\n0 -0.0001  ... -0.0031 -0.0032 -0.0032 -0.0033 -0.0001 -0.0001 -0.0003   \n1 -0.0001  ... -0.0032 -0.0032 -0.0032 -0.0031 -0.0001  0.0000 -0.0001   \n2 -0.0001  ... -0.0016 -0.0016 -0.0016 -0.0017  0.0000  0.0000  0.0000   \n3  0.0000  ... -0.0016 -0.0016 -0.0016 -0.0016  0.0000  0.0000  0.0000   \n4 -0.0003  ...  0.0000 -0.0001  0.0000  0.0000  0.0000 -0.0001  0.0000   \n\n      p94     p95     p96  \n0 -0.0003 -0.0003 -0.0001  \n1 -0.0001 -0.0001 -0.0001  \n2  0.0000  0.0000 -0.0001  \n3 -0.0001  0.0000  0.0000  \n4  0.0000  0.0000  0.0000  \n\n[5 rows x 99 columns]",
      "text/html": "<div>\n<style scoped>\n    .dataframe tbody tr th:only-of-type {\n        vertical-align: middle;\n    }\n\n    .dataframe tbody tr th {\n        vertical-align: top;\n    }\n\n    .dataframe thead th {\n        text-align: right;\n    }\n</style>\n<table border=\"1\" class=\"dataframe\">\n  <thead>\n    <tr style=\"text-align: right;\">\n      <th></th>\n      <th>光伏用户编号</th>\n      <th>综合倍率</th>\n      <th>时间</th>\n      <th>p1</th>\n      <th>p2</th>\n      <th>p3</th>\n      <th>p4</th>\n      <th>p5</th>\n      <th>p6</th>\n      <th>p7</th>\n      <th>...</th>\n      <th>p87</th>\n      <th>p88</th>\n      <th>p89</th>\n      <th>p90</th>\n      <th>p91</th>\n      <th>p92</th>\n      <th>p93</th>\n      <th>p94</th>\n      <th>p95</th>\n      <th>p96</th>\n    </tr>\n  </thead>\n  <tbody>\n    <tr>\n      <th>0</th>\n      <td>f1</td>\n      <td>80</td>\n      <td>2022-1-3 0:00</td>\n      <td>0.0000</td>\n      <td>0.0000</td>\n      <td>0.0000</td>\n      <td>0.0000</td>\n      <td>0.0</td>\n      <td>0.0000</td>\n      <td>-0.0001</td>\n      <td>...</td>\n      <td>-0.0031</td>\n      <td>-0.0032</td>\n      <td>-0.0032</td>\n      <td>-0.0033</td>\n      <td>-0.0001</td>\n      <td>-0.0001</td>\n      <td>-0.0003</td>\n      <td>-0.0003</td>\n      <td>-0.0003</td>\n      <td>-0.0001</td>\n    </tr>\n    <tr>\n      <th>1</th>\n      <td>f1</td>\n      <td>80</td>\n      <td>2022-1-4 0:00</td>\n      <td>-0.0001</td>\n      <td>0.0000</td>\n      <td>-0.0001</td>\n      <td>0.0000</td>\n      <td>0.0</td>\n      <td>-0.0001</td>\n      <td>-0.0001</td>\n      <td>...</td>\n      <td>-0.0032</td>\n      <td>-0.0032</td>\n      <td>-0.0032</td>\n      <td>-0.0031</td>\n      <td>-0.0001</td>\n      <td>0.0000</td>\n      <td>-0.0001</td>\n      <td>-0.0001</td>\n      <td>-0.0001</td>\n      <td>-0.0001</td>\n    </tr>\n    <tr>\n      <th>2</th>\n      <td>f1</td>\n      <td>80</td>\n      <td>2022-1-5 0:00</td>\n      <td>-0.0003</td>\n      <td>-0.0001</td>\n      <td>0.0000</td>\n      <td>0.0000</td>\n      <td>0.0</td>\n      <td>-0.0001</td>\n      <td>-0.0001</td>\n      <td>...</td>\n      <td>-0.0016</td>\n      <td>-0.0016</td>\n      <td>-0.0016</td>\n      <td>-0.0017</td>\n      <td>0.0000</td>\n      <td>0.0000</td>\n      <td>0.0000</td>\n      <td>0.0000</td>\n      <td>0.0000</td>\n      <td>-0.0001</td>\n    </tr>\n    <tr>\n      <th>3</th>\n      <td>f1</td>\n      <td>80</td>\n      <td>2022-1-6 0:00</td>\n      <td>-0.0003</td>\n      <td>0.0000</td>\n      <td>-0.0003</td>\n      <td>-0.0001</td>\n      <td>0.0</td>\n      <td>0.0000</td>\n      <td>0.0000</td>\n      <td>...</td>\n      <td>-0.0016</td>\n      <td>-0.0016</td>\n      <td>-0.0016</td>\n      <td>-0.0016</td>\n      <td>0.0000</td>\n      <td>0.0000</td>\n      <td>0.0000</td>\n      <td>-0.0001</td>\n      <td>0.0000</td>\n      <td>0.0000</td>\n    </tr>\n    <tr>\n      <th>4</th>\n      <td>f1</td>\n      <td>80</td>\n      <td>2022-1-7 0:00</td>\n      <td>0.0000</td>\n      <td>-0.0001</td>\n      <td>-0.0001</td>\n      <td>0.0000</td>\n      <td>0.0</td>\n      <td>-0.0001</td>\n      <td>-0.0003</td>\n      <td>...</td>\n      <td>0.0000</td>\n      <td>-0.0001</td>\n      <td>0.0000</td>\n      <td>0.0000</td>\n      <td>0.0000</td>\n      <td>-0.0001</td>\n      <td>0.0000</td>\n      <td>0.0000</td>\n      <td>0.0000</td>\n      <td>0.0000</td>\n    </tr>\n  </tbody>\n</table>\n<p>5 rows × 99 columns</p>\n</div>"
     },
     "execution_count": 16,
     "metadata": {},
     "output_type": "execute_result"
    }
   ],
   "source": [
    "train_power.head()"
   ],
   "metadata": {
    "collapsed": false,
    "ExecuteTime": {
     "start_time": "2024-03-22T16:54:15.263141Z",
     "end_time": "2024-03-22T16:54:15.294067Z"
    }
   }
  },
  {
   "cell_type": "markdown",
   "source": [
    "<font size=5 face='雅黑'>the train_power dataframe has columns:光伏用户编号', '综合倍率', '时间'"
   ],
   "metadata": {
    "collapsed": false
   }
  },
  {
   "cell_type": "code",
   "execution_count": 17,
   "outputs": [
    {
     "name": "stdout",
     "output_type": "stream",
     "text": [
      "<class 'pandas.core.frame.DataFrame'>\n",
      "RangeIndex: 4337 entries, 0 to 4336\n",
      "Data columns (total 99 columns):\n",
      " #   Column  Non-Null Count  Dtype  \n",
      "---  ------  --------------  -----  \n",
      " 0   光伏用户编号  4337 non-null   object \n",
      " 1   综合倍率    4337 non-null   int64  \n",
      " 2   时间      4337 non-null   object \n",
      " 3   p1      4290 non-null   float64\n",
      " 4   p2      4269 non-null   float64\n",
      " 5   p3      4269 non-null   float64\n",
      " 6   p4      4246 non-null   float64\n",
      " 7   p5      4290 non-null   float64\n",
      " 8   p6      4276 non-null   float64\n",
      " 9   p7      4262 non-null   float64\n",
      " 10  p8      4245 non-null   float64\n",
      " 11  p9      4290 non-null   float64\n",
      " 12  p10     4284 non-null   float64\n",
      " 13  p11     4263 non-null   float64\n",
      " 14  p12     4264 non-null   float64\n",
      " 15  p13     4290 non-null   float64\n",
      " 16  p14     4273 non-null   float64\n",
      " 17  p15     4261 non-null   float64\n",
      " 18  p16     4261 non-null   float64\n",
      " 19  p17     4290 non-null   float64\n",
      " 20  p18     4282 non-null   float64\n",
      " 21  p19     4280 non-null   float64\n",
      " 22  p20     4255 non-null   float64\n",
      " 23  p21     4289 non-null   float64\n",
      " 24  p22     4279 non-null   float64\n",
      " 25  p23     4277 non-null   float64\n",
      " 26  p24     4258 non-null   float64\n",
      " 27  p25     4295 non-null   float64\n",
      " 28  p26     4284 non-null   float64\n",
      " 29  p27     4276 non-null   float64\n",
      " 30  p28     4267 non-null   float64\n",
      " 31  p29     4287 non-null   float64\n",
      " 32  p30     4278 non-null   float64\n",
      " 33  p31     4266 non-null   float64\n",
      " 34  p32     4247 non-null   float64\n",
      " 35  p33     4280 non-null   float64\n",
      " 36  p34     4281 non-null   float64\n",
      " 37  p35     4265 non-null   float64\n",
      " 38  p36     4255 non-null   float64\n",
      " 39  p37     4278 non-null   float64\n",
      " 40  p38     4273 non-null   float64\n",
      " 41  p39     4270 non-null   float64\n",
      " 42  p40     4246 non-null   float64\n",
      " 43  p41     4284 non-null   float64\n",
      " 44  p42     4276 non-null   float64\n",
      " 45  p43     4260 non-null   float64\n",
      " 46  p44     4264 non-null   float64\n",
      " 47  p45     4272 non-null   float64\n",
      " 48  p46     4272 non-null   float64\n",
      " 49  p47     4263 non-null   float64\n",
      " 50  p48     4249 non-null   float64\n",
      " 51  p49     4284 non-null   float64\n",
      " 52  p50     4277 non-null   float64\n",
      " 53  p51     4270 non-null   float64\n",
      " 54  p52     4249 non-null   float64\n",
      " 55  p53     4282 non-null   float64\n",
      " 56  p54     4283 non-null   float64\n",
      " 57  p55     4263 non-null   float64\n",
      " 58  p56     4250 non-null   float64\n",
      " 59  p57     4284 non-null   float64\n",
      " 60  p58     4274 non-null   float64\n",
      " 61  p59     4267 non-null   float64\n",
      " 62  p60     4259 non-null   float64\n",
      " 63  p61     4288 non-null   float64\n",
      " 64  p62     4278 non-null   float64\n",
      " 65  p63     4267 non-null   float64\n",
      " 66  p64     4254 non-null   float64\n",
      " 67  p65     4277 non-null   float64\n",
      " 68  p66     4277 non-null   float64\n",
      " 69  p67     4257 non-null   float64\n",
      " 70  p68     4249 non-null   float64\n",
      " 71  p69     4284 non-null   float64\n",
      " 72  p70     4274 non-null   float64\n",
      " 73  p71     4266 non-null   float64\n",
      " 74  p72     4239 non-null   float64\n",
      " 75  p73     4272 non-null   float64\n",
      " 76  p74     4266 non-null   float64\n",
      " 77  p75     4259 non-null   float64\n",
      " 78  p76     4248 non-null   float64\n",
      " 79  p77     4277 non-null   float64\n",
      " 80  p78     4271 non-null   float64\n",
      " 81  p79     4258 non-null   float64\n",
      " 82  p80     4253 non-null   float64\n",
      " 83  p81     4269 non-null   float64\n",
      " 84  p82     4278 non-null   float64\n",
      " 85  p83     4260 non-null   float64\n",
      " 86  p84     4245 non-null   float64\n",
      " 87  p85     4275 non-null   float64\n",
      " 88  p86     4270 non-null   float64\n",
      " 89  p87     4247 non-null   float64\n",
      " 90  p88     4245 non-null   float64\n",
      " 91  p89     4286 non-null   float64\n",
      " 92  p90     4278 non-null   float64\n",
      " 93  p91     4252 non-null   float64\n",
      " 94  p92     4254 non-null   float64\n",
      " 95  p93     4285 non-null   float64\n",
      " 96  p94     4281 non-null   float64\n",
      " 97  p95     4267 non-null   float64\n",
      " 98  p96     4249 non-null   float64\n",
      "dtypes: float64(96), int64(1), object(2)\n",
      "memory usage: 3.3+ MB\n"
     ]
    }
   ],
   "source": [
    "train_power.info()"
   ],
   "metadata": {
    "collapsed": false,
    "ExecuteTime": {
     "start_time": "2024-03-22T16:54:17.587061Z",
     "end_time": "2024-03-22T16:54:17.607568Z"
    }
   }
  },
  {
   "cell_type": "code",
   "execution_count": 18,
   "outputs": [
    {
     "data": {
      "text/plain": "              综合倍率           p1           p2           p3           p4  \\\ncount  4337.000000  4290.000000  4269.000000  4269.000000  4246.000000   \nmean   1941.969103    -0.000602    -0.000597    -0.000595    -0.000588   \nstd    2878.229374     0.000717     0.000714     0.000713     0.000708   \nmin      80.000000    -0.002200    -0.002200    -0.002200    -0.002200   \n25%      80.000000    -0.001400    -0.001400    -0.001400    -0.001400   \n50%     120.000000    -0.000200    -0.000200    -0.000200    -0.000100   \n75%    3000.000000     0.000000     0.000000     0.000000     0.000000   \nmax    8000.000000     0.000000     0.000000     0.000000     0.000000   \n\n                p5           p6           p7           p8           p9  ...  \\\ncount  4290.000000  4276.000000  4262.000000  4245.000000  4290.000000  ...   \nmean     -0.000601    -0.000598    -0.000594    -0.000589    -0.000602  ...   \nstd       0.000716     0.000713     0.000711     0.000708     0.000716  ...   \nmin      -0.002200    -0.002200    -0.002200    -0.002200    -0.002200  ...   \n25%      -0.001400    -0.001400    -0.001400    -0.001400    -0.001400  ...   \n50%      -0.000200    -0.000200    -0.000200    -0.000200    -0.000200  ...   \n75%       0.000000     0.000000     0.000000     0.000000     0.000000  ...   \nmax       0.000000     0.000000     0.000000     0.000000     0.000000  ...   \n\n               p87          p88          p89          p90          p91  \\\ncount  4247.000000  4245.000000  4286.000000  4278.000000  4252.000000   \nmean     -0.000719    -0.000651    -0.000659    -0.000638    -0.000608   \nstd       0.000959     0.000782     0.000783     0.000760     0.000719   \nmin      -0.006000    -0.003600    -0.003700    -0.003400    -0.003600   \n25%      -0.001400    -0.001400    -0.001400    -0.001400    -0.001400   \n50%      -0.000200    -0.000200    -0.000200    -0.000200    -0.000200   \n75%       0.000000     0.000000     0.000000     0.000000     0.000000   \nmax       0.000000     0.000000     0.000000     0.000000     0.000000   \n\n               p92          p93          p94          p95          p96  \ncount  4254.000000  4285.000000  4281.000000  4267.000000  4249.000000  \nmean     -0.000606    -0.000609    -0.000607    -0.000604    -0.000600  \nstd       0.000715     0.000717     0.000718     0.000716     0.000714  \nmin      -0.002200    -0.002200    -0.002200    -0.002200    -0.002200  \n25%      -0.001400    -0.001400    -0.001400    -0.001400    -0.001400  \n50%      -0.000200    -0.000200    -0.000200    -0.000200    -0.000200  \n75%       0.000000     0.000000     0.000000     0.000000     0.000000  \nmax       0.000000     0.000000     0.000000     0.000000     0.000000  \n\n[8 rows x 97 columns]",
      "text/html": "<div>\n<style scoped>\n    .dataframe tbody tr th:only-of-type {\n        vertical-align: middle;\n    }\n\n    .dataframe tbody tr th {\n        vertical-align: top;\n    }\n\n    .dataframe thead th {\n        text-align: right;\n    }\n</style>\n<table border=\"1\" class=\"dataframe\">\n  <thead>\n    <tr style=\"text-align: right;\">\n      <th></th>\n      <th>综合倍率</th>\n      <th>p1</th>\n      <th>p2</th>\n      <th>p3</th>\n      <th>p4</th>\n      <th>p5</th>\n      <th>p6</th>\n      <th>p7</th>\n      <th>p8</th>\n      <th>p9</th>\n      <th>...</th>\n      <th>p87</th>\n      <th>p88</th>\n      <th>p89</th>\n      <th>p90</th>\n      <th>p91</th>\n      <th>p92</th>\n      <th>p93</th>\n      <th>p94</th>\n      <th>p95</th>\n      <th>p96</th>\n    </tr>\n  </thead>\n  <tbody>\n    <tr>\n      <th>count</th>\n      <td>4337.000000</td>\n      <td>4290.000000</td>\n      <td>4269.000000</td>\n      <td>4269.000000</td>\n      <td>4246.000000</td>\n      <td>4290.000000</td>\n      <td>4276.000000</td>\n      <td>4262.000000</td>\n      <td>4245.000000</td>\n      <td>4290.000000</td>\n      <td>...</td>\n      <td>4247.000000</td>\n      <td>4245.000000</td>\n      <td>4286.000000</td>\n      <td>4278.000000</td>\n      <td>4252.000000</td>\n      <td>4254.000000</td>\n      <td>4285.000000</td>\n      <td>4281.000000</td>\n      <td>4267.000000</td>\n      <td>4249.000000</td>\n    </tr>\n    <tr>\n      <th>mean</th>\n      <td>1941.969103</td>\n      <td>-0.000602</td>\n      <td>-0.000597</td>\n      <td>-0.000595</td>\n      <td>-0.000588</td>\n      <td>-0.000601</td>\n      <td>-0.000598</td>\n      <td>-0.000594</td>\n      <td>-0.000589</td>\n      <td>-0.000602</td>\n      <td>...</td>\n      <td>-0.000719</td>\n      <td>-0.000651</td>\n      <td>-0.000659</td>\n      <td>-0.000638</td>\n      <td>-0.000608</td>\n      <td>-0.000606</td>\n      <td>-0.000609</td>\n      <td>-0.000607</td>\n      <td>-0.000604</td>\n      <td>-0.000600</td>\n    </tr>\n    <tr>\n      <th>std</th>\n      <td>2878.229374</td>\n      <td>0.000717</td>\n      <td>0.000714</td>\n      <td>0.000713</td>\n      <td>0.000708</td>\n      <td>0.000716</td>\n      <td>0.000713</td>\n      <td>0.000711</td>\n      <td>0.000708</td>\n      <td>0.000716</td>\n      <td>...</td>\n      <td>0.000959</td>\n      <td>0.000782</td>\n      <td>0.000783</td>\n      <td>0.000760</td>\n      <td>0.000719</td>\n      <td>0.000715</td>\n      <td>0.000717</td>\n      <td>0.000718</td>\n      <td>0.000716</td>\n      <td>0.000714</td>\n    </tr>\n    <tr>\n      <th>min</th>\n      <td>80.000000</td>\n      <td>-0.002200</td>\n      <td>-0.002200</td>\n      <td>-0.002200</td>\n      <td>-0.002200</td>\n      <td>-0.002200</td>\n      <td>-0.002200</td>\n      <td>-0.002200</td>\n      <td>-0.002200</td>\n      <td>-0.002200</td>\n      <td>...</td>\n      <td>-0.006000</td>\n      <td>-0.003600</td>\n      <td>-0.003700</td>\n      <td>-0.003400</td>\n      <td>-0.003600</td>\n      <td>-0.002200</td>\n      <td>-0.002200</td>\n      <td>-0.002200</td>\n      <td>-0.002200</td>\n      <td>-0.002200</td>\n    </tr>\n    <tr>\n      <th>25%</th>\n      <td>80.000000</td>\n      <td>-0.001400</td>\n      <td>-0.001400</td>\n      <td>-0.001400</td>\n      <td>-0.001400</td>\n      <td>-0.001400</td>\n      <td>-0.001400</td>\n      <td>-0.001400</td>\n      <td>-0.001400</td>\n      <td>-0.001400</td>\n      <td>...</td>\n      <td>-0.001400</td>\n      <td>-0.001400</td>\n      <td>-0.001400</td>\n      <td>-0.001400</td>\n      <td>-0.001400</td>\n      <td>-0.001400</td>\n      <td>-0.001400</td>\n      <td>-0.001400</td>\n      <td>-0.001400</td>\n      <td>-0.001400</td>\n    </tr>\n    <tr>\n      <th>50%</th>\n      <td>120.000000</td>\n      <td>-0.000200</td>\n      <td>-0.000200</td>\n      <td>-0.000200</td>\n      <td>-0.000100</td>\n      <td>-0.000200</td>\n      <td>-0.000200</td>\n      <td>-0.000200</td>\n      <td>-0.000200</td>\n      <td>-0.000200</td>\n      <td>...</td>\n      <td>-0.000200</td>\n      <td>-0.000200</td>\n      <td>-0.000200</td>\n      <td>-0.000200</td>\n      <td>-0.000200</td>\n      <td>-0.000200</td>\n      <td>-0.000200</td>\n      <td>-0.000200</td>\n      <td>-0.000200</td>\n      <td>-0.000200</td>\n    </tr>\n    <tr>\n      <th>75%</th>\n      <td>3000.000000</td>\n      <td>0.000000</td>\n      <td>0.000000</td>\n      <td>0.000000</td>\n      <td>0.000000</td>\n      <td>0.000000</td>\n      <td>0.000000</td>\n      <td>0.000000</td>\n      <td>0.000000</td>\n      <td>0.000000</td>\n      <td>...</td>\n      <td>0.000000</td>\n      <td>0.000000</td>\n      <td>0.000000</td>\n      <td>0.000000</td>\n      <td>0.000000</td>\n      <td>0.000000</td>\n      <td>0.000000</td>\n      <td>0.000000</td>\n      <td>0.000000</td>\n      <td>0.000000</td>\n    </tr>\n    <tr>\n      <th>max</th>\n      <td>8000.000000</td>\n      <td>0.000000</td>\n      <td>0.000000</td>\n      <td>0.000000</td>\n      <td>0.000000</td>\n      <td>0.000000</td>\n      <td>0.000000</td>\n      <td>0.000000</td>\n      <td>0.000000</td>\n      <td>0.000000</td>\n      <td>...</td>\n      <td>0.000000</td>\n      <td>0.000000</td>\n      <td>0.000000</td>\n      <td>0.000000</td>\n      <td>0.000000</td>\n      <td>0.000000</td>\n      <td>0.000000</td>\n      <td>0.000000</td>\n      <td>0.000000</td>\n      <td>0.000000</td>\n    </tr>\n  </tbody>\n</table>\n<p>8 rows × 97 columns</p>\n</div>"
     },
     "execution_count": 18,
     "metadata": {},
     "output_type": "execute_result"
    }
   ],
   "source": [
    "train_power.describe()"
   ],
   "metadata": {
    "collapsed": false,
    "ExecuteTime": {
     "start_time": "2024-03-22T16:54:19.251304Z",
     "end_time": "2024-03-22T16:54:19.377805Z"
    }
   }
  },
  {
   "cell_type": "markdown",
   "source": [
    "## test set"
   ],
   "metadata": {
    "collapsed": false
   }
  },
  {
   "cell_type": "code",
   "execution_count": 20,
   "outputs": [
    {
     "data": {
      "text/plain": "     光伏用户名称 光伏用户编号  装机容量(kW)          经度         纬度\n0  f1光伏发电用户     f1   239.220  119.218560  26.042931\n1  f2光伏发电用户     f2   396.000  118.124457  24.695315\n2  f3光伏发电用户     f3   397.870  117.002056  25.112496\n3  f4光伏发电用户     f4   332.395  117.854904  26.744673\n4  f5光伏发电用户     f5   201.140  120.022313  26.872516",
      "text/html": "<div>\n<style scoped>\n    .dataframe tbody tr th:only-of-type {\n        vertical-align: middle;\n    }\n\n    .dataframe tbody tr th {\n        vertical-align: top;\n    }\n\n    .dataframe thead th {\n        text-align: right;\n    }\n</style>\n<table border=\"1\" class=\"dataframe\">\n  <thead>\n    <tr style=\"text-align: right;\">\n      <th></th>\n      <th>光伏用户名称</th>\n      <th>光伏用户编号</th>\n      <th>装机容量(kW)</th>\n      <th>经度</th>\n      <th>纬度</th>\n    </tr>\n  </thead>\n  <tbody>\n    <tr>\n      <th>0</th>\n      <td>f1光伏发电用户</td>\n      <td>f1</td>\n      <td>239.220</td>\n      <td>119.218560</td>\n      <td>26.042931</td>\n    </tr>\n    <tr>\n      <th>1</th>\n      <td>f2光伏发电用户</td>\n      <td>f2</td>\n      <td>396.000</td>\n      <td>118.124457</td>\n      <td>24.695315</td>\n    </tr>\n    <tr>\n      <th>2</th>\n      <td>f3光伏发电用户</td>\n      <td>f3</td>\n      <td>397.870</td>\n      <td>117.002056</td>\n      <td>25.112496</td>\n    </tr>\n    <tr>\n      <th>3</th>\n      <td>f4光伏发电用户</td>\n      <td>f4</td>\n      <td>332.395</td>\n      <td>117.854904</td>\n      <td>26.744673</td>\n    </tr>\n    <tr>\n      <th>4</th>\n      <td>f5光伏发电用户</td>\n      <td>f5</td>\n      <td>201.140</td>\n      <td>120.022313</td>\n      <td>26.872516</td>\n    </tr>\n  </tbody>\n</table>\n</div>"
     },
     "execution_count": 20,
     "metadata": {},
     "output_type": "execute_result"
    }
   ],
   "source": [
    "test_basic.head()"
   ],
   "metadata": {
    "collapsed": false,
    "ExecuteTime": {
     "start_time": "2024-03-22T16:56:43.168936Z",
     "end_time": "2024-03-22T16:56:43.202936Z"
    }
   }
  },
  {
   "cell_type": "code",
   "execution_count": 21,
   "outputs": [
    {
     "name": "stdout",
     "output_type": "stream",
     "text": [
      "<class 'pandas.core.frame.DataFrame'>\n",
      "RangeIndex: 9 entries, 0 to 8\n",
      "Data columns (total 5 columns):\n",
      " #   Column    Non-Null Count  Dtype  \n",
      "---  ------    --------------  -----  \n",
      " 0   光伏用户名称    9 non-null      object \n",
      " 1   光伏用户编号    9 non-null      object \n",
      " 2   装机容量(kW)  9 non-null      float64\n",
      " 3   经度        9 non-null      float64\n",
      " 4   纬度        9 non-null      float64\n",
      "dtypes: float64(3), object(2)\n",
      "memory usage: 488.0+ bytes\n"
     ]
    }
   ],
   "source": [
    "test_basic.info()"
   ],
   "metadata": {
    "collapsed": false,
    "ExecuteTime": {
     "start_time": "2024-03-22T16:56:44.991903Z",
     "end_time": "2024-03-22T16:56:45.042774Z"
    }
   }
  },
  {
   "cell_type": "code",
   "execution_count": 22,
   "outputs": [
    {
     "data": {
      "text/plain": "          装机容量(kW)          经度         纬度\ncount     9.000000    9.000000   9.000000\nmean   1535.180556  118.395248  25.600724\nstd    2050.145496    0.969891   0.949041\nmin     201.140000  117.002056  24.077638\n25%     332.395000  117.740547  25.112496\n50%     397.870000  118.124457  25.449233\n75%    2000.000000  119.156033  26.280676\nmax    6000.000000  120.022313  26.872516",
      "text/html": "<div>\n<style scoped>\n    .dataframe tbody tr th:only-of-type {\n        vertical-align: middle;\n    }\n\n    .dataframe tbody tr th {\n        vertical-align: top;\n    }\n\n    .dataframe thead th {\n        text-align: right;\n    }\n</style>\n<table border=\"1\" class=\"dataframe\">\n  <thead>\n    <tr style=\"text-align: right;\">\n      <th></th>\n      <th>装机容量(kW)</th>\n      <th>经度</th>\n      <th>纬度</th>\n    </tr>\n  </thead>\n  <tbody>\n    <tr>\n      <th>count</th>\n      <td>9.000000</td>\n      <td>9.000000</td>\n      <td>9.000000</td>\n    </tr>\n    <tr>\n      <th>mean</th>\n      <td>1535.180556</td>\n      <td>118.395248</td>\n      <td>25.600724</td>\n    </tr>\n    <tr>\n      <th>std</th>\n      <td>2050.145496</td>\n      <td>0.969891</td>\n      <td>0.949041</td>\n    </tr>\n    <tr>\n      <th>min</th>\n      <td>201.140000</td>\n      <td>117.002056</td>\n      <td>24.077638</td>\n    </tr>\n    <tr>\n      <th>25%</th>\n      <td>332.395000</td>\n      <td>117.740547</td>\n      <td>25.112496</td>\n    </tr>\n    <tr>\n      <th>50%</th>\n      <td>397.870000</td>\n      <td>118.124457</td>\n      <td>25.449233</td>\n    </tr>\n    <tr>\n      <th>75%</th>\n      <td>2000.000000</td>\n      <td>119.156033</td>\n      <td>26.280676</td>\n    </tr>\n    <tr>\n      <th>max</th>\n      <td>6000.000000</td>\n      <td>120.022313</td>\n      <td>26.872516</td>\n    </tr>\n  </tbody>\n</table>\n</div>"
     },
     "execution_count": 22,
     "metadata": {},
     "output_type": "execute_result"
    }
   ],
   "source": [
    "test_basic.describe()"
   ],
   "metadata": {
    "collapsed": false,
    "ExecuteTime": {
     "start_time": "2024-03-22T16:56:46.827431Z",
     "end_time": "2024-03-22T16:56:46.853345Z"
    }
   }
  },
  {
   "cell_type": "code",
   "execution_count": 23,
   "outputs": [
    {
     "data": {
      "text/plain": "  光伏用户编号             时间      气压(Pa）  相对湿度（%）       云量  10米风速（10m/s）  10米风向（°)  \\\n0     f1  2023-5-1 0:00  99453.6250  89.8487  0.89844       0.54929     270.0   \n1     f1  2023-5-1 0:15  99445.4611  92.4332  0.92999       0.53548     270.0   \n2     f1  2023-5-1 0:30  99434.1857  92.5277  0.92273       0.59624     270.0   \n3     f1  2023-5-1 0:45  99420.7315  91.2865  0.90333       0.69339     270.0   \n4     f1  2023-5-1 1:00  99406.0313  89.8641  0.89844       0.78874     270.0   \n\n      温度（K）  辐照强度（J/m2）     降水（m）  100m风速（100m/s）  100m风向（°)  \n0  287.6853         0.0  0.006908         0.00000      270.0  \n1  287.7061         0.0  0.005454         0.00000      270.0  \n2  287.6017         0.0  0.005404         0.00000      270.0  \n3  287.4312         0.0  0.006106         0.13264      270.0  \n4  287.2534         0.0  0.006908         0.29370      270.0  ",
      "text/html": "<div>\n<style scoped>\n    .dataframe tbody tr th:only-of-type {\n        vertical-align: middle;\n    }\n\n    .dataframe tbody tr th {\n        vertical-align: top;\n    }\n\n    .dataframe thead th {\n        text-align: right;\n    }\n</style>\n<table border=\"1\" class=\"dataframe\">\n  <thead>\n    <tr style=\"text-align: right;\">\n      <th></th>\n      <th>光伏用户编号</th>\n      <th>时间</th>\n      <th>气压(Pa）</th>\n      <th>相对湿度（%）</th>\n      <th>云量</th>\n      <th>10米风速（10m/s）</th>\n      <th>10米风向（°)</th>\n      <th>温度（K）</th>\n      <th>辐照强度（J/m2）</th>\n      <th>降水（m）</th>\n      <th>100m风速（100m/s）</th>\n      <th>100m风向（°)</th>\n    </tr>\n  </thead>\n  <tbody>\n    <tr>\n      <th>0</th>\n      <td>f1</td>\n      <td>2023-5-1 0:00</td>\n      <td>99453.6250</td>\n      <td>89.8487</td>\n      <td>0.89844</td>\n      <td>0.54929</td>\n      <td>270.0</td>\n      <td>287.6853</td>\n      <td>0.0</td>\n      <td>0.006908</td>\n      <td>0.00000</td>\n      <td>270.0</td>\n    </tr>\n    <tr>\n      <th>1</th>\n      <td>f1</td>\n      <td>2023-5-1 0:15</td>\n      <td>99445.4611</td>\n      <td>92.4332</td>\n      <td>0.92999</td>\n      <td>0.53548</td>\n      <td>270.0</td>\n      <td>287.7061</td>\n      <td>0.0</td>\n      <td>0.005454</td>\n      <td>0.00000</td>\n      <td>270.0</td>\n    </tr>\n    <tr>\n      <th>2</th>\n      <td>f1</td>\n      <td>2023-5-1 0:30</td>\n      <td>99434.1857</td>\n      <td>92.5277</td>\n      <td>0.92273</td>\n      <td>0.59624</td>\n      <td>270.0</td>\n      <td>287.6017</td>\n      <td>0.0</td>\n      <td>0.005404</td>\n      <td>0.00000</td>\n      <td>270.0</td>\n    </tr>\n    <tr>\n      <th>3</th>\n      <td>f1</td>\n      <td>2023-5-1 0:45</td>\n      <td>99420.7315</td>\n      <td>91.2865</td>\n      <td>0.90333</td>\n      <td>0.69339</td>\n      <td>270.0</td>\n      <td>287.4312</td>\n      <td>0.0</td>\n      <td>0.006106</td>\n      <td>0.13264</td>\n      <td>270.0</td>\n    </tr>\n    <tr>\n      <th>4</th>\n      <td>f1</td>\n      <td>2023-5-1 1:00</td>\n      <td>99406.0313</td>\n      <td>89.8641</td>\n      <td>0.89844</td>\n      <td>0.78874</td>\n      <td>270.0</td>\n      <td>287.2534</td>\n      <td>0.0</td>\n      <td>0.006908</td>\n      <td>0.29370</td>\n      <td>270.0</td>\n    </tr>\n  </tbody>\n</table>\n</div>"
     },
     "execution_count": 23,
     "metadata": {},
     "output_type": "execute_result"
    }
   ],
   "source": [
    "test_weather.head()"
   ],
   "metadata": {
    "collapsed": false,
    "ExecuteTime": {
     "start_time": "2024-03-22T16:56:48.386378Z",
     "end_time": "2024-03-22T16:56:48.404479Z"
    }
   }
  },
  {
   "cell_type": "code",
   "execution_count": 24,
   "outputs": [
    {
     "name": "stdout",
     "output_type": "stream",
     "text": [
      "<class 'pandas.core.frame.DataFrame'>\n",
      "RangeIndex: 79488 entries, 0 to 79487\n",
      "Data columns (total 12 columns):\n",
      " #   Column          Non-Null Count  Dtype  \n",
      "---  ------          --------------  -----  \n",
      " 0   光伏用户编号          79488 non-null  object \n",
      " 1   时间              79488 non-null  object \n",
      " 2   气压(Pa）          79488 non-null  float64\n",
      " 3   相对湿度（%）         79488 non-null  float64\n",
      " 4   云量              79488 non-null  float64\n",
      " 5   10米风速（10m/s）    79488 non-null  float64\n",
      " 6   10米风向（°)        79488 non-null  float64\n",
      " 7   温度（K）           79488 non-null  float64\n",
      " 8   辐照强度（J/m2）      79488 non-null  float64\n",
      " 9   降水（m）           79488 non-null  float64\n",
      " 10  100m风速（100m/s）  79488 non-null  float64\n",
      " 11  100m风向（°)       79488 non-null  float64\n",
      "dtypes: float64(10), object(2)\n",
      "memory usage: 7.3+ MB\n"
     ]
    }
   ],
   "source": [
    "test_weather.info()"
   ],
   "metadata": {
    "collapsed": false,
    "ExecuteTime": {
     "start_time": "2024-03-22T16:56:49.760739Z",
     "end_time": "2024-03-22T16:56:49.778739Z"
    }
   }
  },
  {
   "cell_type": "code",
   "execution_count": 25,
   "outputs": [
    {
     "data": {
      "text/plain": "              气压(Pa）       相对湿度（%）            云量  10米风速（10m/s）      10米风向（°)  \\\ncount   79488.000000  79488.000000  79488.000000   79488.00000  79488.000000   \nmean    98378.928589     74.438161      0.770089       1.45198    228.914908   \nstd      2272.132927     17.505629      0.332989       1.74660     37.438199   \nmin     91562.358100      1.835000      0.000000       0.00000    180.000000   \n25%     96795.170975     65.045500      0.592430       0.00000    187.522575   \n50%     98814.014900     78.346900      0.982595       0.87337    228.099150   \n75%    100369.607750     87.003300      1.000000       2.15300    270.000000   \nmax    101750.167000    103.783600      1.000000      17.75250    270.000000   \n\n              温度（K）    辐照强度（J/m2）         降水（m）  100m风速（100m/s）     100m风向（°)  \ncount  79488.000000  79488.000000  79488.000000    79488.000000  79488.000000  \nmean     298.925763    228.223876      0.009934        2.309712    227.400394  \nstd        4.057321    296.334860      0.019623        2.574937     36.543994  \nmin      282.611900      0.000000      0.000000        0.000000    180.000000  \n25%      296.353800      0.000000      0.000367        0.000000    188.136475  \n50%      298.863550      0.000000      0.002985        1.576650    224.904950  \n75%      301.508625    439.459425      0.011136        3.645125    270.000000  \nmax      313.196200    990.128600      0.215780       28.532100    270.000000  ",
      "text/html": "<div>\n<style scoped>\n    .dataframe tbody tr th:only-of-type {\n        vertical-align: middle;\n    }\n\n    .dataframe tbody tr th {\n        vertical-align: top;\n    }\n\n    .dataframe thead th {\n        text-align: right;\n    }\n</style>\n<table border=\"1\" class=\"dataframe\">\n  <thead>\n    <tr style=\"text-align: right;\">\n      <th></th>\n      <th>气压(Pa）</th>\n      <th>相对湿度（%）</th>\n      <th>云量</th>\n      <th>10米风速（10m/s）</th>\n      <th>10米风向（°)</th>\n      <th>温度（K）</th>\n      <th>辐照强度（J/m2）</th>\n      <th>降水（m）</th>\n      <th>100m风速（100m/s）</th>\n      <th>100m风向（°)</th>\n    </tr>\n  </thead>\n  <tbody>\n    <tr>\n      <th>count</th>\n      <td>79488.000000</td>\n      <td>79488.000000</td>\n      <td>79488.000000</td>\n      <td>79488.00000</td>\n      <td>79488.000000</td>\n      <td>79488.000000</td>\n      <td>79488.000000</td>\n      <td>79488.000000</td>\n      <td>79488.000000</td>\n      <td>79488.000000</td>\n    </tr>\n    <tr>\n      <th>mean</th>\n      <td>98378.928589</td>\n      <td>74.438161</td>\n      <td>0.770089</td>\n      <td>1.45198</td>\n      <td>228.914908</td>\n      <td>298.925763</td>\n      <td>228.223876</td>\n      <td>0.009934</td>\n      <td>2.309712</td>\n      <td>227.400394</td>\n    </tr>\n    <tr>\n      <th>std</th>\n      <td>2272.132927</td>\n      <td>17.505629</td>\n      <td>0.332989</td>\n      <td>1.74660</td>\n      <td>37.438199</td>\n      <td>4.057321</td>\n      <td>296.334860</td>\n      <td>0.019623</td>\n      <td>2.574937</td>\n      <td>36.543994</td>\n    </tr>\n    <tr>\n      <th>min</th>\n      <td>91562.358100</td>\n      <td>1.835000</td>\n      <td>0.000000</td>\n      <td>0.00000</td>\n      <td>180.000000</td>\n      <td>282.611900</td>\n      <td>0.000000</td>\n      <td>0.000000</td>\n      <td>0.000000</td>\n      <td>180.000000</td>\n    </tr>\n    <tr>\n      <th>25%</th>\n      <td>96795.170975</td>\n      <td>65.045500</td>\n      <td>0.592430</td>\n      <td>0.00000</td>\n      <td>187.522575</td>\n      <td>296.353800</td>\n      <td>0.000000</td>\n      <td>0.000367</td>\n      <td>0.000000</td>\n      <td>188.136475</td>\n    </tr>\n    <tr>\n      <th>50%</th>\n      <td>98814.014900</td>\n      <td>78.346900</td>\n      <td>0.982595</td>\n      <td>0.87337</td>\n      <td>228.099150</td>\n      <td>298.863550</td>\n      <td>0.000000</td>\n      <td>0.002985</td>\n      <td>1.576650</td>\n      <td>224.904950</td>\n    </tr>\n    <tr>\n      <th>75%</th>\n      <td>100369.607750</td>\n      <td>87.003300</td>\n      <td>1.000000</td>\n      <td>2.15300</td>\n      <td>270.000000</td>\n      <td>301.508625</td>\n      <td>439.459425</td>\n      <td>0.011136</td>\n      <td>3.645125</td>\n      <td>270.000000</td>\n    </tr>\n    <tr>\n      <th>max</th>\n      <td>101750.167000</td>\n      <td>103.783600</td>\n      <td>1.000000</td>\n      <td>17.75250</td>\n      <td>270.000000</td>\n      <td>313.196200</td>\n      <td>990.128600</td>\n      <td>0.215780</td>\n      <td>28.532100</td>\n      <td>270.000000</td>\n    </tr>\n  </tbody>\n</table>\n</div>"
     },
     "execution_count": 25,
     "metadata": {},
     "output_type": "execute_result"
    }
   ],
   "source": [
    "test_weather.describe()"
   ],
   "metadata": {
    "collapsed": false,
    "ExecuteTime": {
     "start_time": "2024-03-22T16:56:51.500870Z",
     "end_time": "2024-03-22T16:56:51.539875Z"
    }
   }
  },
  {
   "cell_type": "code",
   "execution_count": 26,
   "outputs": [
    {
     "data": {
      "text/plain": "  光伏用户编号  综合倍率             时间\n0     f1    80  2023-5-1 0:00\n1     f1    80  2023-5-2 0:00\n2     f1    80  2023-5-3 0:00\n3     f1    80  2023-5-4 0:00\n4     f1    80  2023-5-5 0:00",
      "text/html": "<div>\n<style scoped>\n    .dataframe tbody tr th:only-of-type {\n        vertical-align: middle;\n    }\n\n    .dataframe tbody tr th {\n        vertical-align: top;\n    }\n\n    .dataframe thead th {\n        text-align: right;\n    }\n</style>\n<table border=\"1\" class=\"dataframe\">\n  <thead>\n    <tr style=\"text-align: right;\">\n      <th></th>\n      <th>光伏用户编号</th>\n      <th>综合倍率</th>\n      <th>时间</th>\n    </tr>\n  </thead>\n  <tbody>\n    <tr>\n      <th>0</th>\n      <td>f1</td>\n      <td>80</td>\n      <td>2023-5-1 0:00</td>\n    </tr>\n    <tr>\n      <th>1</th>\n      <td>f1</td>\n      <td>80</td>\n      <td>2023-5-2 0:00</td>\n    </tr>\n    <tr>\n      <th>2</th>\n      <td>f1</td>\n      <td>80</td>\n      <td>2023-5-3 0:00</td>\n    </tr>\n    <tr>\n      <th>3</th>\n      <td>f1</td>\n      <td>80</td>\n      <td>2023-5-4 0:00</td>\n    </tr>\n    <tr>\n      <th>4</th>\n      <td>f1</td>\n      <td>80</td>\n      <td>2023-5-5 0:00</td>\n    </tr>\n  </tbody>\n</table>\n</div>"
     },
     "execution_count": 26,
     "metadata": {},
     "output_type": "execute_result"
    }
   ],
   "source": [
    "test_power.head()"
   ],
   "metadata": {
    "collapsed": false,
    "ExecuteTime": {
     "start_time": "2024-03-22T16:56:57.489489Z",
     "end_time": "2024-03-22T16:56:57.526211Z"
    }
   }
  },
  {
   "cell_type": "code",
   "execution_count": 27,
   "outputs": [
    {
     "name": "stdout",
     "output_type": "stream",
     "text": [
      "<class 'pandas.core.frame.DataFrame'>\n",
      "RangeIndex: 825 entries, 0 to 824\n",
      "Data columns (total 3 columns):\n",
      " #   Column  Non-Null Count  Dtype \n",
      "---  ------  --------------  ----- \n",
      " 0   光伏用户编号  825 non-null    object\n",
      " 1   综合倍率    825 non-null    int64 \n",
      " 2   时间      825 non-null    object\n",
      "dtypes: int64(1), object(2)\n",
      "memory usage: 19.5+ KB\n"
     ]
    }
   ],
   "source": [
    "test_power.info()"
   ],
   "metadata": {
    "collapsed": false,
    "ExecuteTime": {
     "start_time": "2024-03-22T16:56:59.403520Z",
     "end_time": "2024-03-22T16:56:59.467698Z"
    }
   }
  },
  {
   "cell_type": "code",
   "execution_count": 28,
   "outputs": [
    {
     "data": {
      "text/plain": "              综合倍率\ncount   825.000000\nmean   1951.757576\nstd    2886.195120\nmin      80.000000\n25%      80.000000\n50%     120.000000\n75%    3000.000000\nmax    8000.000000",
      "text/html": "<div>\n<style scoped>\n    .dataframe tbody tr th:only-of-type {\n        vertical-align: middle;\n    }\n\n    .dataframe tbody tr th {\n        vertical-align: top;\n    }\n\n    .dataframe thead th {\n        text-align: right;\n    }\n</style>\n<table border=\"1\" class=\"dataframe\">\n  <thead>\n    <tr style=\"text-align: right;\">\n      <th></th>\n      <th>综合倍率</th>\n    </tr>\n  </thead>\n  <tbody>\n    <tr>\n      <th>count</th>\n      <td>825.000000</td>\n    </tr>\n    <tr>\n      <th>mean</th>\n      <td>1951.757576</td>\n    </tr>\n    <tr>\n      <th>std</th>\n      <td>2886.195120</td>\n    </tr>\n    <tr>\n      <th>min</th>\n      <td>80.000000</td>\n    </tr>\n    <tr>\n      <th>25%</th>\n      <td>80.000000</td>\n    </tr>\n    <tr>\n      <th>50%</th>\n      <td>120.000000</td>\n    </tr>\n    <tr>\n      <th>75%</th>\n      <td>3000.000000</td>\n    </tr>\n    <tr>\n      <th>max</th>\n      <td>8000.000000</td>\n    </tr>\n  </tbody>\n</table>\n</div>"
     },
     "execution_count": 28,
     "metadata": {},
     "output_type": "execute_result"
    }
   ],
   "source": [
    "test_power.describe()"
   ],
   "metadata": {
    "collapsed": false,
    "ExecuteTime": {
     "start_time": "2024-03-22T16:57:01.417076Z",
     "end_time": "2024-03-22T16:57:01.435575Z"
    }
   }
  },
  {
   "cell_type": "code",
   "execution_count": null,
   "outputs": [],
   "source": [],
   "metadata": {
    "collapsed": false
   }
  }
 ],
 "metadata": {
  "kernelspec": {
   "display_name": "Python 3",
   "language": "python",
   "name": "python3"
  },
  "language_info": {
   "codemirror_mode": {
    "name": "ipython",
    "version": 2
   },
   "file_extension": ".py",
   "mimetype": "text/x-python",
   "name": "python",
   "nbconvert_exporter": "python",
   "pygments_lexer": "ipython2",
   "version": "2.7.6"
  }
 },
 "nbformat": 4,
 "nbformat_minor": 0
}
